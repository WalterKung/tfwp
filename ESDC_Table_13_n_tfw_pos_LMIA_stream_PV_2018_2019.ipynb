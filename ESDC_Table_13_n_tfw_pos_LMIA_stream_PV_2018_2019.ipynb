{
 "cells": [
  {
   "cell_type": "markdown",
   "metadata": {},
   "source": [
    "## Table 13-Number of temporary foreign worker (TFW) positions on positive Labour Market Impact Assessments (LMIAs) by stream and province/territory between 2018Q1 and 2019Q4  \n",
    "www.edsc-esdc.gc.ca/ouvert-open/bca-seb/imt-lmi/TFWP2019_Q4_Table_13_e.csv  "
   ]
  },
  {
   "cell_type": "code",
   "execution_count": 1,
   "metadata": {},
   "outputs": [],
   "source": [
    "import pandas as pd\n",
    "from pathlib import Path"
   ]
  },
  {
   "cell_type": "code",
   "execution_count": 2,
   "metadata": {},
   "outputs": [],
   "source": [
    "datapath = Path(\".//data\")\n",
    "#[x for x in datapath.iterdir() if x.is_file()]"
   ]
  },
  {
   "cell_type": "code",
   "execution_count": 3,
   "metadata": {},
   "outputs": [],
   "source": [
    "d = pd.read_csv(datapath.joinpath(\"TFWP2019_Q4_Table_13_e.csv\"))"
   ]
  },
  {
   "cell_type": "code",
   "execution_count": 5,
   "metadata": {},
   "outputs": [
    {
     "data": {
      "text/plain": [
       "['Jan-Mar_2018',\n",
       " 'Apr-Jun_2018',\n",
       " 'Jul-Sep_2018',\n",
       " 'Oct-Dec_2018',\n",
       " 'Jan-Mar_2019',\n",
       " 'Apr-Jun_2019',\n",
       " 'Jul-Sep_2019',\n",
       " 'Oct-Dec_2019']"
      ]
     },
     "execution_count": 5,
     "metadata": {},
     "output_type": "execute_result"
    }
   ],
   "source": [
    "# Column labels\n",
    "YR = []\n",
    "for h in d.iloc[0,:8].values:\n",
    "    if str(h).isdigit():\n",
    "        for i in range(4):\n",
    "            YR.append(int(h))\n",
    "\n",
    "TM = d.loc[1][1:9].values\n",
    "YR = YR[:len(TM)]\n",
    "\n",
    "col_labels = [(str(t) + \"_\" + str(y)).replace('Total_','').replace('nan_', '').replace(' ','_') for t, y in zip(TM,YR)]\n",
    "col_labels"
   ]
  },
  {
   "cell_type": "code",
   "execution_count": 6,
   "metadata": {},
   "outputs": [],
   "source": [
    "# Row Indexs\n",
    "streams = [\n",
    "    'Filler',\n",
    "    'Filler',\n",
    "    'High-Wage',\n",
    "    'Low-Wage',\n",
    "    'Primary Agriculture',\n",
    "    'Global Talent',\n",
    "    'Unspecified',\n",
    "    'Total'\n",
    "]\n",
    "\n",
    "geos = [\n",
    "    'Canada',\n",
    "    'Newfoundland and Labrador',\n",
    "    'Prince Edward Island',\n",
    "    'Nova Scotia',\n",
    "    'New Brunswick',\n",
    "    'Quebec',\n",
    "    'Ontario',\n",
    "    'Manitoba',\n",
    "    'Saskatchewan',\n",
    "    'Alberta',\n",
    "    'British Columbia',\n",
    "    'Yukon',\n",
    "    'Northwest Territories',\n",
    "    'Nunavut'\n",
    "]\n",
    "\n",
    "rowindex1 = []\n",
    "rowindex2 = []\n",
    "\n",
    "for g in geos:\n",
    "    for s in streams:\n",
    "        rowindex1.append(s)\n",
    "        rowindex2.append(g)"
   ]
  },
  {
   "cell_type": "code",
   "execution_count": 7,
   "metadata": {},
   "outputs": [
    {
     "data": {
      "text/html": [
       "<div>\n",
       "<style scoped>\n",
       "    .dataframe tbody tr th:only-of-type {\n",
       "        vertical-align: middle;\n",
       "    }\n",
       "\n",
       "    .dataframe tbody tr th {\n",
       "        vertical-align: top;\n",
       "    }\n",
       "\n",
       "    .dataframe thead th {\n",
       "        text-align: right;\n",
       "    }\n",
       "</style>\n",
       "<table border=\"1\" class=\"dataframe\">\n",
       "  <thead>\n",
       "    <tr style=\"text-align: right;\">\n",
       "      <th></th>\n",
       "      <th>geo</th>\n",
       "      <th>stream</th>\n",
       "      <th>Jan-Mar_2018</th>\n",
       "      <th>Apr-Jun_2018</th>\n",
       "      <th>Jul-Sep_2018</th>\n",
       "      <th>Oct-Dec_2018</th>\n",
       "      <th>Jan-Mar_2019</th>\n",
       "      <th>Apr-Jun_2019</th>\n",
       "      <th>Jul-Sep_2019</th>\n",
       "      <th>Oct-Dec_2019</th>\n",
       "    </tr>\n",
       "  </thead>\n",
       "  <tbody>\n",
       "    <tr>\n",
       "      <th>107</th>\n",
       "      <td>Nunavut</td>\n",
       "      <td>Low-Wage</td>\n",
       "      <td>5.0</td>\n",
       "      <td>43.0</td>\n",
       "      <td>31.0</td>\n",
       "      <td>4.0</td>\n",
       "      <td>1.0</td>\n",
       "      <td>21.0</td>\n",
       "      <td>78.0</td>\n",
       "      <td>4.0</td>\n",
       "    </tr>\n",
       "    <tr>\n",
       "      <th>108</th>\n",
       "      <td>Nunavut</td>\n",
       "      <td>Primary Agriculture</td>\n",
       "      <td>0.0</td>\n",
       "      <td>0.0</td>\n",
       "      <td>0.0</td>\n",
       "      <td>0.0</td>\n",
       "      <td>0.0</td>\n",
       "      <td>0.0</td>\n",
       "      <td>0.0</td>\n",
       "      <td>0.0</td>\n",
       "    </tr>\n",
       "    <tr>\n",
       "      <th>109</th>\n",
       "      <td>Nunavut</td>\n",
       "      <td>Global Talent</td>\n",
       "      <td>0.0</td>\n",
       "      <td>0.0</td>\n",
       "      <td>0.0</td>\n",
       "      <td>0.0</td>\n",
       "      <td>0.0</td>\n",
       "      <td>0.0</td>\n",
       "      <td>0.0</td>\n",
       "      <td>0.0</td>\n",
       "    </tr>\n",
       "    <tr>\n",
       "      <th>110</th>\n",
       "      <td>Nunavut</td>\n",
       "      <td>Unspecified</td>\n",
       "      <td>0.0</td>\n",
       "      <td>0.0</td>\n",
       "      <td>0.0</td>\n",
       "      <td>0.0</td>\n",
       "      <td>0.0</td>\n",
       "      <td>0.0</td>\n",
       "      <td>0.0</td>\n",
       "      <td>0.0</td>\n",
       "    </tr>\n",
       "    <tr>\n",
       "      <th>111</th>\n",
       "      <td>Nunavut</td>\n",
       "      <td>Total</td>\n",
       "      <td>5.0</td>\n",
       "      <td>58.0</td>\n",
       "      <td>63.0</td>\n",
       "      <td>6.0</td>\n",
       "      <td>1.0</td>\n",
       "      <td>44.0</td>\n",
       "      <td>84.0</td>\n",
       "      <td>4.0</td>\n",
       "    </tr>\n",
       "  </tbody>\n",
       "</table>\n",
       "</div>"
      ],
      "text/plain": [
       "         geo               stream  Jan-Mar_2018  Apr-Jun_2018  Jul-Sep_2018  \\\n",
       "107  Nunavut             Low-Wage           5.0          43.0          31.0   \n",
       "108  Nunavut  Primary Agriculture           0.0           0.0           0.0   \n",
       "109  Nunavut        Global Talent           0.0           0.0           0.0   \n",
       "110  Nunavut          Unspecified           0.0           0.0           0.0   \n",
       "111  Nunavut                Total           5.0          58.0          63.0   \n",
       "\n",
       "     Oct-Dec_2018  Jan-Mar_2019  Apr-Jun_2019  Jul-Sep_2019  Oct-Dec_2019  \n",
       "107           4.0           1.0          21.0          78.0           4.0  \n",
       "108           0.0           0.0           0.0           0.0           0.0  \n",
       "109           0.0           0.0           0.0           0.0           0.0  \n",
       "110           0.0           0.0           0.0           0.0           0.0  \n",
       "111           6.0           1.0          44.0          84.0           4.0  "
      ]
     },
     "execution_count": 7,
     "metadata": {},
     "output_type": "execute_result"
    }
   ],
   "source": [
    "# Content\n",
    "df = d.iloc[:len(rowindex1),1:len(col_labels)+1]\n",
    "df.columns = col_labels\n",
    "df = df.apply(lambda x: x.str.replace('[,]', ''), axis=1)\n",
    "df['geo'] = rowindex2\n",
    "df['stream'] = rowindex1\n",
    "df = df.set_index(['geo','stream']).apply(pd.to_numeric, errors='coerce').fillna(0).reset_index()\n",
    "df = df[df.stream != \"Filler\"]\n",
    "df.tail(5)"
   ]
  },
  {
   "cell_type": "code",
   "execution_count": 8,
   "metadata": {},
   "outputs": [
    {
     "data": {
      "text/html": [
       "<div>\n",
       "<style scoped>\n",
       "    .dataframe tbody tr th:only-of-type {\n",
       "        vertical-align: middle;\n",
       "    }\n",
       "\n",
       "    .dataframe tbody tr th {\n",
       "        vertical-align: top;\n",
       "    }\n",
       "\n",
       "    .dataframe thead th {\n",
       "        text-align: right;\n",
       "    }\n",
       "</style>\n",
       "<table border=\"1\" class=\"dataframe\">\n",
       "  <thead>\n",
       "    <tr style=\"text-align: right;\">\n",
       "      <th></th>\n",
       "      <th>geo</th>\n",
       "      <th>stream</th>\n",
       "      <th>YR</th>\n",
       "      <th>month_start</th>\n",
       "      <th>month_end</th>\n",
       "      <th>duration</th>\n",
       "      <th>pos_cnt</th>\n",
       "    </tr>\n",
       "  </thead>\n",
       "  <tbody>\n",
       "    <tr>\n",
       "      <th>0</th>\n",
       "      <td>Canada</td>\n",
       "      <td>High-Wage</td>\n",
       "      <td>2018</td>\n",
       "      <td>Jan</td>\n",
       "      <td>Mar</td>\n",
       "      <td>Jan-Mar_2018</td>\n",
       "      <td>3051.0</td>\n",
       "    </tr>\n",
       "    <tr>\n",
       "      <th>1</th>\n",
       "      <td>Canada</td>\n",
       "      <td>Low-Wage</td>\n",
       "      <td>2018</td>\n",
       "      <td>Jan</td>\n",
       "      <td>Mar</td>\n",
       "      <td>Jan-Mar_2018</td>\n",
       "      <td>5071.0</td>\n",
       "    </tr>\n",
       "    <tr>\n",
       "      <th>2</th>\n",
       "      <td>Canada</td>\n",
       "      <td>Primary Agriculture</td>\n",
       "      <td>2018</td>\n",
       "      <td>Jan</td>\n",
       "      <td>Mar</td>\n",
       "      <td>Jan-Mar_2018</td>\n",
       "      <td>20458.0</td>\n",
       "    </tr>\n",
       "    <tr>\n",
       "      <th>3</th>\n",
       "      <td>Canada</td>\n",
       "      <td>Global Talent</td>\n",
       "      <td>2018</td>\n",
       "      <td>Jan</td>\n",
       "      <td>Mar</td>\n",
       "      <td>Jan-Mar_2018</td>\n",
       "      <td>544.0</td>\n",
       "    </tr>\n",
       "    <tr>\n",
       "      <th>4</th>\n",
       "      <td>Canada</td>\n",
       "      <td>Unspecified</td>\n",
       "      <td>2018</td>\n",
       "      <td>Jan</td>\n",
       "      <td>Mar</td>\n",
       "      <td>Jan-Mar_2018</td>\n",
       "      <td>1.0</td>\n",
       "    </tr>\n",
       "  </tbody>\n",
       "</table>\n",
       "</div>"
      ],
      "text/plain": [
       "      geo               stream    YR month_start month_end      duration  \\\n",
       "0  Canada            High-Wage  2018         Jan       Mar  Jan-Mar_2018   \n",
       "1  Canada             Low-Wage  2018         Jan       Mar  Jan-Mar_2018   \n",
       "2  Canada  Primary Agriculture  2018         Jan       Mar  Jan-Mar_2018   \n",
       "3  Canada        Global Talent  2018         Jan       Mar  Jan-Mar_2018   \n",
       "4  Canada          Unspecified  2018         Jan       Mar  Jan-Mar_2018   \n",
       "\n",
       "   pos_cnt  \n",
       "0   3051.0  \n",
       "1   5071.0  \n",
       "2  20458.0  \n",
       "3    544.0  \n",
       "4      1.0  "
      ]
     },
     "execution_count": 8,
     "metadata": {},
     "output_type": "execute_result"
    }
   ],
   "source": [
    "import re\n",
    "# reshape\n",
    "df_poscnt = df.melt(id_vars=[\"geo\",\"stream\"], \n",
    "        var_name=\"duration\", \n",
    "        value_name=\"pos_cnt\")\n",
    "\n",
    "df_poscnt\n",
    "\n",
    "# duration to month start, month end, year\n",
    "YR = []\n",
    "month_start = []\n",
    "month_end = []\n",
    "\n",
    "for d in df_poscnt.duration:\n",
    "    s = re.split('-|_',d)\n",
    "    YR.append(s[2])\n",
    "    month_start.append(s[0])\n",
    "    month_end.append(s[1])\n",
    "\n",
    "df_poscnt['YR'] = YR\n",
    "df_poscnt['month_start'] = month_start\n",
    "df_poscnt['month_end'] = month_end\n",
    "df_poscnt = df_poscnt.set_index(['geo','stream','YR','month_start','month_end']).reset_index()\n",
    "df_poscnt.head()"
   ]
  },
  {
   "cell_type": "markdown",
   "metadata": {},
   "source": [
    "### Canada  "
   ]
  },
  {
   "cell_type": "code",
   "execution_count": 10,
   "metadata": {},
   "outputs": [
    {
     "data": {
      "text/plain": [
       "array(['Global Talent', 'High-Wage', 'Low-Wage', 'Primary Agriculture',\n",
       "       'Total', 'Unspecified'], dtype=object)"
      ]
     },
     "execution_count": 10,
     "metadata": {},
     "output_type": "execute_result"
    }
   ],
   "source": [
    "df_canada = df_poscnt[(df_poscnt.geo.isin(['Canada']))]\n",
    "df_canada_cnt = df_canada[['stream','YR','month_end','pos_cnt']].groupby(['stream','YR','month_end']).sum()\n",
    "df_canada_cnt.reset_index(inplace=True)\n",
    "combined =  \"15 \" + df_canada_cnt.month_end + \" \" + df_canada_cnt.YR.astype(str)\n",
    "df_canada_cnt['time'] = pd.to_datetime(combined, format ='%d %b %Y')\n",
    "df_canada_cnt = df_canada_cnt[['stream', 'time', 'pos_cnt']]\n",
    "df_canada_cnt.set_index(\"time\", inplace=True)\n",
    "df_canada_cnt.stream.unique()"
   ]
  },
  {
   "cell_type": "code",
   "execution_count": 12,
   "metadata": {},
   "outputs": [
    {
     "data": {
      "image/png": "[encoded data removed]",
      "text/plain": [
       "<Figure size 432x288 with 6 Axes>"
      ]
     },
     "metadata": {
      "needs_background": "light"
     },
     "output_type": "display_data"
    }
   ],
   "source": [
    "import matplotlib.pyplot as plt\n",
    "df = df_canada_cnt\n",
    "grouped = df.groupby('stream')\n",
    "nrows = grouped.ngroups\n",
    "fig, axs = plt.subplots(nrows = nrows, ncols = 1, sharex = True)\n",
    "\n",
    "targets = zip(grouped.groups.keys(), axs.flatten())\n",
    "for i, (key, ax) in enumerate(targets):\n",
    "    ax.plot(grouped.get_group(key).sort_values(by=['time'])['pos_cnt'])\n",
    "    ax.set_title(str(key))\n",
    "plt.show()"
   ]
  }
 ],
 "metadata": {
  "kernelspec": {
   "display_name": "Python 3.7.3 64-bit ('fastaiv3': conda)",
   "language": "python",
   "name": "python37364bitfastaiv3condaefaa6efe6d6a4eb7a2b01d782df4d431"
  },
  "language_info": {
   "codemirror_mode": {
    "name": "ipython",
    "version": 3
   },
   "file_extension": ".py",
   "mimetype": "text/x-python",
   "name": "python",
   "nbconvert_exporter": "python",
   "pygments_lexer": "ipython3",
   "version": "3.7.3"
  }
 },
 "nbformat": 4,
 "nbformat_minor": 2
}
